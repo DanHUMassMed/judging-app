{
 "cells": [
  {
   "cell_type": "code",
   "execution_count": 1,
   "id": "187f3255",
   "metadata": {},
   "outputs": [],
   "source": [
    "# System level imports\n",
    "import sys\n",
    "import os\n",
    "\n",
    "# ##### SET SYS PATH TO WHERE THE CODE IS. #####\n",
    "# Note: Putting our code first in the sys path will make sure it gets picked up\n",
    "llm_analyst_base_dir='/Users/dan/Code/Vibe_Coding/judging-app/backend'\n",
    "sys.path.insert(0, llm_analyst_base_dir)"
   ]
  },
  {
   "cell_type": "code",
   "execution_count": 2,
   "id": "a3bc5276",
   "metadata": {},
   "outputs": [],
   "source": [
    "from app.schemas.user import UserCreate, UserRead, LoginRequest\n",
    "from app.models.core_db import get_db\n",
    "from app.services.auth_service import AuthService"
   ]
  },
  {
   "cell_type": "code",
   "execution_count": 15,
   "id": "4f94423d",
   "metadata": {},
   "outputs": [],
   "source": [
    "#magic_link_token = 'zgWHM3gnGNK5NVEzzsm8V3gkqMYQF_D0EG6DZoptBoo'\n",
    "db_gen = get_db()\n",
    "db = next(db_gen)\n",
    "service = AuthService(db)\n",
    "\n",
    "user_verified = service.verify(magic_link_token)"
   ]
  },
  {
   "cell_type": "code",
   "execution_count": 13,
   "id": "7e62530a",
   "metadata": {},
   "outputs": [
    {
     "name": "stderr",
     "output_type": "stream",
     "text": [
      "DEBUG:root:SMTP sent to: dan2@example.com\n"
     ]
    },
    {
     "name": "stdout",
     "output_type": "stream",
     "text": [
      "magic_link_token: fWcN96O_lYBQKnP-AIS2zOe0YKxJ8cBj3aCkviHegH8\n"
     ]
    }
   ],
   "source": [
    "# Send a magic link account must exist already\n",
    "email = \"dan2@example.com\"\n",
    "db_gen = get_db()\n",
    "db = next(db_gen)\n",
    "service = AuthService(db)\n",
    "\n",
    "user_data = service.send_magic_link(email)\n",
    "print(\"magic_link_token:\", user_data.magic_link_token)\n",
    "magic_link_token = user_data.magic_link_token"
   ]
  },
  {
   "cell_type": "code",
   "execution_count": 4,
   "id": "8c633a42",
   "metadata": {},
   "outputs": [
    {
     "name": "stderr",
     "output_type": "stream",
     "text": [
      "DEBUG:root:SMTP sent to: dan2@example.com\n"
     ]
    },
    {
     "name": "stdout",
     "output_type": "stream",
     "text": [
      "id=1 first_name='Dan' last_name='Higgins' email='dan2@example.com' password='$argon2id$v=19$m=65536,t=3,p=4$GmMsRYjROuecE0JIiTEmRA$VViVRjrKMi5UDkrDtZtq0qAcip350OLLOSGxwKy7AJM' organization='Vibe Coding' magic_link_token='N32NADetO4PChdUanjivYJBucxt_qfYwQcDrCbtzPLo' magic_link_expires_at='2025-08-25T20:05:59.462941Z' last_login_at='2025-08-25T19:50:59.462953Z' is_verified=False registered_at=datetime.datetime(2025, 8, 25, 15, 50, 59, 430268) role='user'\n"
     ]
    }
   ],
   "source": [
    "# Register a new user\n",
    "user_dict = {\"first_name\": \"Dan\", \"last_name\": \"Higgins\", \"email\": \"dan2@example.com\", \"password\": \"password\", \"organization\": \"Vibe Coding\"}\n",
    "new_user = UserCreate.model_validate(user_dict)\n",
    "\n",
    "# Manual way to get db session\n",
    "db_gen = get_db()\n",
    "db = next(db_gen)  # get the Session\n",
    "\n",
    "service = AuthService(db)\n",
    "user = service.register(new_user)\n",
    "print(user)"
   ]
  },
  {
   "cell_type": "code",
   "execution_count": 16,
   "id": "2e48a0aa",
   "metadata": {},
   "outputs": [
    {
     "name": "stdout",
     "output_type": "stream",
     "text": [
      "minutes_logged_in=0\n"
     ]
    }
   ],
   "source": [
    "# Check how long a user has been logged in for\n",
    "db_gen = get_db()\n",
    "db = next(db_gen)\n",
    "service = AuthService(db)\n",
    "\n",
    "minutes_logged_in = service.active_login_minutes(\"dan2@example.com\")\n",
    "print(f\"{minutes_logged_in=}\")"
   ]
  },
  {
   "cell_type": "code",
   "execution_count": 9,
   "id": "4bc88b75",
   "metadata": {},
   "outputs": [
    {
     "name": "stdout",
     "output_type": "stream",
     "text": [
      "id=1 first_name='Dan' last_name='Higgins' email='dan2@example.com' password='$argon2id$v=19$m=65536,t=3,p=4$GmMsRYjROuecE0JIiTEmRA$VViVRjrKMi5UDkrDtZtq0qAcip350OLLOSGxwKy7AJM' organization='Vibe Coding' magic_link_token='N32NADetO4PChdUanjivYJBucxt_qfYwQcDrCbtzPLo' magic_link_expires_at='2025-08-25T20:05:59.462941Z' last_login_at='2025-08-25T19:54:15.801470Z' is_verified=False registered_at=datetime.datetime(2025, 8, 25, 15, 50, 59, 430268) role='user'\n"
     ]
    }
   ],
   "source": [
    "# Sign in an existing user\n",
    "db_gen = get_db()\n",
    "db = next(db_gen)\n",
    "service = AuthService(db)\n",
    "\n",
    "user_read = service.signin(\"dan2@example.com\", \"password\")\n",
    "print(user_read)"
   ]
  },
  {
   "cell_type": "code",
   "execution_count": null,
   "id": "ee7140b4",
   "metadata": {},
   "outputs": [],
   "source": [
    "from datetime import datetime, timedelta, timezone\n",
    "\n",
    "email=\"dphiggins@gmail.com\"\n",
    "db_gen = get_db()\n",
    "db = next(db_gen)\n",
    "service = AuthService(db)\n",
    "\n",
    "user_data = service.send_magic_link(email)\n",
    "\n",
    "\n",
    "expires_at = user_data.magic_link_expires_at\n",
    "\n",
    "# fallback in case it's naive for some reason\n",
    "if expires_at and expires_at.tzinfo is None:\n",
    "    expires_at = expires_at.replace(tzinfo=timezone.utc)\n",
    "\n",
    "now = datetime.now(timezone.utc)\n",
    "\n",
    "print(\"DEBUG expires_at:\", expires_at.isoformat() if expires_at else None)\n",
    "print(\"DEBUG        now:\", now.isoformat())\n",
    "if expires_at:\n",
    "    delta = expires_at - now\n",
    "    seconds = int(delta.total_seconds())\n",
    "    mins, secs = divmod(abs(seconds), 60)\n",
    "\n",
    "    # Positive = still time left, Negative = expired already\n",
    "    sign = \"\" if seconds >= 0 else \"-\"\n",
    "    print(f\"DEBUG Time before expires: {sign}{mins} min {secs} sec\")\n",
    "else:\n",
    "    print(\"DEBUG expires_at is None\")\n",
    "            "
   ]
  },
  {
   "cell_type": "code",
   "execution_count": null,
   "id": "a217b5e1",
   "metadata": {},
   "outputs": [],
   "source": [
    "import requests\n",
    "\n",
    "# API endpoint\n",
    "url = \"http://localhost:8000/api/v1/auth/verify\"  # adjust if running on a different host/port\n",
    "\n",
    "# Example token (replace with a real one from your app)\n",
    "token = \"IRf08SCIoeJFc2CLVE-oUXA9Ql8pIGa-s-n_wWMz_Vg\"\n",
    "\n",
    "# Request payload\n",
    "payload = {\"token\": token}\n",
    "\n",
    "# Send POST request\n",
    "response = requests.post(url, json=payload)\n",
    "\n",
    "# Print debug info\n",
    "print(\"Status code:\", response.status_code)\n",
    "try:\n",
    "    print(\"Response JSON:\", response.json())\n",
    "except Exception:\n",
    "    print(\"Raw response:\", response.text)"
   ]
  },
  {
   "cell_type": "code",
   "execution_count": null,
   "id": "0169d58f",
   "metadata": {},
   "outputs": [],
   "source": []
  }
 ],
 "metadata": {
  "kernelspec": {
   "display_name": "wormcat3-web",
   "language": "python",
   "name": "python3"
  },
  "language_info": {
   "codemirror_mode": {
    "name": "ipython",
    "version": 3
   },
   "file_extension": ".py",
   "mimetype": "text/x-python",
   "name": "python",
   "nbconvert_exporter": "python",
   "pygments_lexer": "ipython3",
   "version": "3.12.9"
  }
 },
 "nbformat": 4,
 "nbformat_minor": 5
}
